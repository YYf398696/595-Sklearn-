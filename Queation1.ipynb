{
 "cells": [
  {
   "cell_type": "code",
   "execution_count": 55,
   "metadata": {},
   "outputs": [],
   "source": [
    "from sklearn.model_selection import train_test_split\n",
    "from sklearn.linear_model import LinearRegression  \n",
    "import numpy as np\n",
    "import pandas as pd\n",
    "np.set_printoptions(suppress=True)"
   ]
  },
  {
   "cell_type": "code",
   "execution_count": 56,
   "metadata": {},
   "outputs": [],
   "source": [
    "boston=pd.read_csv('boston_house_prices.csv')"
   ]
  },
  {
   "cell_type": "code",
   "execution_count": 57,
   "metadata": {},
   "outputs": [],
   "source": [
    "tittle=boston.iloc[0].values\n",
    "boston.columns=tittle\n",
    "boston=boston.drop(labels=0) "
   ]
  },
  {
   "cell_type": "code",
   "execution_count": 58,
   "metadata": {},
   "outputs": [],
   "source": [
    "X = boston.loc[:, tittle[:-1]]\n",
    "y = boston.loc[:, tittle[-1]]"
   ]
  },
  {
   "cell_type": "code",
   "execution_count": 62,
   "metadata": {},
   "outputs": [],
   "source": [
    "X_train, X_test, y_train, y_test = train_test_split(X, y, test_size=0.2, random_state=532)\n",
    "linreg = LinearRegression()\n",
    "model = linreg.fit(X_train, y_train)"
   ]
  },
  {
   "cell_type": "code",
   "execution_count": 72,
   "metadata": {},
   "outputs": [],
   "source": [
    "impact = [abs(x) for x in linreg.coef_]\n",
    "dic = dict(map(lambda x,y:[x,y],impact,tittle[:-1]))"
   ]
  },
  {
   "cell_type": "code",
   "execution_count": 73,
   "metadata": {},
   "outputs": [
    {
     "data": {
      "text/plain": [
       "[(0.007247415087058018, 'B'),\n",
       " (0.01434886624794653, 'TAX'),\n",
       " (0.014523968162298069, 'AGE'),\n",
       " (0.05761207945048276, 'ZN'),\n",
       " (0.07687583303059971, 'INDUS'),\n",
       " (0.10920325494942389, 'CRIM'),\n",
       " (0.25847305564727235, 'RAD'),\n",
       " (0.438269991354161, 'LSTAT'),\n",
       " (0.9231097946622095, 'CHAS'),\n",
       " (0.9708050502857913, 'PTRATIO'),\n",
       " (1.6139252016403234, 'DIS'),\n",
       " (4.009936947150388, 'RM'),\n",
       " (18.35664852609919, 'NOX')]"
      ]
     },
     "execution_count": 73,
     "metadata": {},
     "output_type": "execute_result"
    }
   ],
   "source": [
    " sorted(dic.items(),key=lambda item:item[0])"
   ]
  },
  {
   "cell_type": "markdown",
   "metadata": {},
   "source": [
    "So the impact from big to small accoding to the model is:\n",
    "NOX->RM->DIS->PTRATIO->CHAS->LSTAT->RAD->CRIM->INDUS->ZN->AGE->TAX->B"
   ]
  }
 ],
 "metadata": {
  "kernelspec": {
   "display_name": "Python 3",
   "language": "python",
   "name": "python3"
  },
  "language_info": {
   "codemirror_mode": {
    "name": "ipython",
    "version": 3
   },
   "file_extension": ".py",
   "mimetype": "text/x-python",
   "name": "python",
   "nbconvert_exporter": "python",
   "pygments_lexer": "ipython3",
   "version": "3.7.4"
  }
 },
 "nbformat": 4,
 "nbformat_minor": 2
}
